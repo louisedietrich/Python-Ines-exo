{
 "cells": [
  {
   "cell_type": "code",
   "execution_count": 1,
   "metadata": {},
   "outputs": [],
   "source": [
    "import pandas as pd"
   ]
  },
  {
   "cell_type": "code",
   "execution_count": 48,
   "metadata": {},
   "outputs": [
    {
     "name": "stdout",
     "output_type": "stream",
     "text": [
      "      Country  OrderDate DeliverDate Item  ShippedUnits\n",
      "0     Belgium 2007-10-01  2007-10-04    a            10\n",
      "1     Germany 2007-10-02  2007-10-06    b             2\n",
      "2          UK 2007-10-06  2007-10-15    b            10\n",
      "3     Belgium 2007-10-06  2007-10-12    c             4\n",
      "4     Belgium 2007-10-06  2007-10-07    c             2\n",
      "...       ...        ...         ...  ...           ...\n",
      "9995       UK 2019-05-21  2019-05-22    c             4\n",
      "9996  Germany 2019-05-21  2019-05-22    a             4\n",
      "9997   France 2019-05-21  2019-05-24    b             2\n",
      "9998   France 2019-05-22  2019-05-25    a             3\n",
      "9999   France 2019-05-22  2019-05-22    a             1\n",
      "\n",
      "[10000 rows x 5 columns]\n"
     ]
    }
   ],
   "source": [
    "#ligne 35: le file était à sauvegarder sous le nom \"datat\"\n",
    "\n",
    "#datat = pd.ExcelFile(\"data.xlsx\") ##sans le read_excel, le fichier est inexploitable ensuite\n",
    "\n",
    "datat = pd.read_excel (r'data.xlsx')\n",
    "print (datat)"
   ]
  },
  {
   "cell_type": "code",
   "execution_count": 23,
   "metadata": {},
   "outputs": [
    {
     "name": "stdout",
     "output_type": "stream",
     "text": [
      "['data']\n"
     ]
    }
   ],
   "source": [
    "print(datat.sheet_names)\n",
    "shipping_data =  pd.read_excel(datat, sheet_name='data')\n"
   ]
  },
  {
   "cell_type": "code",
   "execution_count": 50,
   "metadata": {},
   "outputs": [
    {
     "data": {
      "text/html": [
       "<div>\n",
       "<style scoped>\n",
       "    .dataframe tbody tr th:only-of-type {\n",
       "        vertical-align: middle;\n",
       "    }\n",
       "\n",
       "    .dataframe tbody tr th {\n",
       "        vertical-align: top;\n",
       "    }\n",
       "\n",
       "    .dataframe thead th {\n",
       "        text-align: right;\n",
       "    }\n",
       "</style>\n",
       "<table border=\"1\" class=\"dataframe\">\n",
       "  <thead>\n",
       "    <tr style=\"text-align: right;\">\n",
       "      <th></th>\n",
       "      <th>Country</th>\n",
       "      <th>OrderDate</th>\n",
       "      <th>DeliverDate</th>\n",
       "      <th>Item</th>\n",
       "      <th>ShippedUnits</th>\n",
       "    </tr>\n",
       "  </thead>\n",
       "  <tbody>\n",
       "    <tr>\n",
       "      <th>0</th>\n",
       "      <td>Belgium</td>\n",
       "      <td>2007-10-01</td>\n",
       "      <td>2007-10-04</td>\n",
       "      <td>a</td>\n",
       "      <td>10</td>\n",
       "    </tr>\n",
       "    <tr>\n",
       "      <th>1</th>\n",
       "      <td>Germany</td>\n",
       "      <td>2007-10-02</td>\n",
       "      <td>2007-10-06</td>\n",
       "      <td>b</td>\n",
       "      <td>2</td>\n",
       "    </tr>\n",
       "    <tr>\n",
       "      <th>2</th>\n",
       "      <td>UK</td>\n",
       "      <td>2007-10-06</td>\n",
       "      <td>2007-10-15</td>\n",
       "      <td>b</td>\n",
       "      <td>10</td>\n",
       "    </tr>\n",
       "    <tr>\n",
       "      <th>3</th>\n",
       "      <td>Belgium</td>\n",
       "      <td>2007-10-06</td>\n",
       "      <td>2007-10-12</td>\n",
       "      <td>c</td>\n",
       "      <td>4</td>\n",
       "    </tr>\n",
       "    <tr>\n",
       "      <th>4</th>\n",
       "      <td>Belgium</td>\n",
       "      <td>2007-10-06</td>\n",
       "      <td>2007-10-07</td>\n",
       "      <td>c</td>\n",
       "      <td>2</td>\n",
       "    </tr>\n",
       "  </tbody>\n",
       "</table>\n",
       "</div>"
      ],
      "text/plain": [
       "   Country  OrderDate DeliverDate Item  ShippedUnits\n",
       "0  Belgium 2007-10-01  2007-10-04    a            10\n",
       "1  Germany 2007-10-02  2007-10-06    b             2\n",
       "2       UK 2007-10-06  2007-10-15    b            10\n",
       "3  Belgium 2007-10-06  2007-10-12    c             4\n",
       "4  Belgium 2007-10-06  2007-10-07    c             2"
      ]
     },
     "execution_count": 50,
     "metadata": {},
     "output_type": "execute_result"
    }
   ],
   "source": [
    "##ligne 57\n",
    "#Exercise: show the 5 first rows of datat\n",
    "\n",
    "datat.head(n=5)\n",
    "\n",
    "\n",
    "##ligne 63\n",
    "shipping_data.tail(n=3)\n",
    "\n"
   ]
  },
  {
   "cell_type": "code",
   "execution_count": 45,
   "metadata": {
    "scrolled": true
   },
   "outputs": [
    {
     "data": {
      "text/html": [
       "<div>\n",
       "<style scoped>\n",
       "    .dataframe tbody tr th:only-of-type {\n",
       "        vertical-align: middle;\n",
       "    }\n",
       "\n",
       "    .dataframe tbody tr th {\n",
       "        vertical-align: top;\n",
       "    }\n",
       "\n",
       "    .dataframe thead th {\n",
       "        text-align: right;\n",
       "    }\n",
       "</style>\n",
       "<table border=\"1\" class=\"dataframe\">\n",
       "  <thead>\n",
       "    <tr style=\"text-align: right;\">\n",
       "      <th></th>\n",
       "      <th>Country</th>\n",
       "      <th>OrderDate</th>\n",
       "      <th>DeliverDate</th>\n",
       "      <th>Item</th>\n",
       "      <th>ShippedUnits</th>\n",
       "    </tr>\n",
       "  </thead>\n",
       "  <tbody>\n",
       "    <tr>\n",
       "      <th>0</th>\n",
       "      <td>Belgium</td>\n",
       "      <td>2007-10-01</td>\n",
       "      <td>2007-10-04</td>\n",
       "      <td>a</td>\n",
       "      <td>10</td>\n",
       "    </tr>\n",
       "    <tr>\n",
       "      <th>7501</th>\n",
       "      <td>France</td>\n",
       "      <td>2016-07-31</td>\n",
       "      <td>2016-08-02</td>\n",
       "      <td>c</td>\n",
       "      <td>10</td>\n",
       "    </tr>\n",
       "    <tr>\n",
       "      <th>1655</th>\n",
       "      <td>France</td>\n",
       "      <td>2009-07-26</td>\n",
       "      <td>2009-07-27</td>\n",
       "      <td>b</td>\n",
       "      <td>10</td>\n",
       "    </tr>\n",
       "    <tr>\n",
       "      <th>1657</th>\n",
       "      <td>France</td>\n",
       "      <td>2009-07-27</td>\n",
       "      <td>2009-07-28</td>\n",
       "      <td>c</td>\n",
       "      <td>10</td>\n",
       "    </tr>\n",
       "    <tr>\n",
       "      <th>7669</th>\n",
       "      <td>Belgium</td>\n",
       "      <td>2016-10-08</td>\n",
       "      <td>2016-10-10</td>\n",
       "      <td>c</td>\n",
       "      <td>10</td>\n",
       "    </tr>\n",
       "  </tbody>\n",
       "</table>\n",
       "</div>"
      ],
      "text/plain": [
       "      Country  OrderDate DeliverDate Item  ShippedUnits\n",
       "0     Belgium 2007-10-01  2007-10-04    a            10\n",
       "7501   France 2016-07-31  2016-08-02    c            10\n",
       "1655   France 2009-07-26  2009-07-27    b            10\n",
       "1657   France 2009-07-27  2009-07-28    c            10\n",
       "7669  Belgium 2016-10-08  2016-10-10    c            10"
      ]
     },
     "execution_count": 45,
     "metadata": {},
     "output_type": "execute_result"
    }
   ],
   "source": [
    "###ligne 70\n",
    "#shipping_data.sort_values(by=\"ShippedUnits\", ascending = False).head(n=5)\n",
    "#il y avait un espace en trop entre Shipped & Units sur ta formule mais elle marche\n",
    "shipping_data.nlargest(5, 'ShippedUnits')"
   ]
  },
  {
   "cell_type": "code",
   "execution_count": 47,
   "metadata": {},
   "outputs": [
    {
     "data": {
      "text/html": [
       "<div>\n",
       "<style scoped>\n",
       "    .dataframe tbody tr th:only-of-type {\n",
       "        vertical-align: middle;\n",
       "    }\n",
       "\n",
       "    .dataframe tbody tr th {\n",
       "        vertical-align: top;\n",
       "    }\n",
       "\n",
       "    .dataframe thead th {\n",
       "        text-align: right;\n",
       "    }\n",
       "</style>\n",
       "<table border=\"1\" class=\"dataframe\">\n",
       "  <thead>\n",
       "    <tr style=\"text-align: right;\">\n",
       "      <th></th>\n",
       "      <th>Country</th>\n",
       "      <th>OrderDate</th>\n",
       "      <th>DeliverDate</th>\n",
       "      <th>Item</th>\n",
       "      <th>ShippedUnits</th>\n",
       "    </tr>\n",
       "  </thead>\n",
       "  <tbody>\n",
       "    <tr>\n",
       "      <th>6</th>\n",
       "      <td>France</td>\n",
       "      <td>2007-10-11</td>\n",
       "      <td>2007-10-13</td>\n",
       "      <td>a</td>\n",
       "      <td>4</td>\n",
       "    </tr>\n",
       "    <tr>\n",
       "      <th>8</th>\n",
       "      <td>France</td>\n",
       "      <td>2007-10-11</td>\n",
       "      <td>2007-10-11</td>\n",
       "      <td>b</td>\n",
       "      <td>3</td>\n",
       "    </tr>\n",
       "    <tr>\n",
       "      <th>9</th>\n",
       "      <td>France</td>\n",
       "      <td>2007-10-11</td>\n",
       "      <td>2007-10-15</td>\n",
       "      <td>b</td>\n",
       "      <td>2</td>\n",
       "    </tr>\n",
       "    <tr>\n",
       "      <th>10</th>\n",
       "      <td>France</td>\n",
       "      <td>2007-10-11</td>\n",
       "      <td>2007-10-16</td>\n",
       "      <td>b</td>\n",
       "      <td>1</td>\n",
       "    </tr>\n",
       "    <tr>\n",
       "      <th>11</th>\n",
       "      <td>France</td>\n",
       "      <td>2007-10-12</td>\n",
       "      <td>2007-10-14</td>\n",
       "      <td>a</td>\n",
       "      <td>3</td>\n",
       "    </tr>\n",
       "    <tr>\n",
       "      <th>...</th>\n",
       "      <td>...</td>\n",
       "      <td>...</td>\n",
       "      <td>...</td>\n",
       "      <td>...</td>\n",
       "      <td>...</td>\n",
       "    </tr>\n",
       "    <tr>\n",
       "      <th>9987</th>\n",
       "      <td>France</td>\n",
       "      <td>2019-05-18</td>\n",
       "      <td>2019-05-23</td>\n",
       "      <td>b</td>\n",
       "      <td>2</td>\n",
       "    </tr>\n",
       "    <tr>\n",
       "      <th>9994</th>\n",
       "      <td>France</td>\n",
       "      <td>2019-05-21</td>\n",
       "      <td>2019-05-23</td>\n",
       "      <td>b</td>\n",
       "      <td>4</td>\n",
       "    </tr>\n",
       "    <tr>\n",
       "      <th>9997</th>\n",
       "      <td>France</td>\n",
       "      <td>2019-05-21</td>\n",
       "      <td>2019-05-24</td>\n",
       "      <td>b</td>\n",
       "      <td>2</td>\n",
       "    </tr>\n",
       "    <tr>\n",
       "      <th>9998</th>\n",
       "      <td>France</td>\n",
       "      <td>2019-05-22</td>\n",
       "      <td>2019-05-25</td>\n",
       "      <td>a</td>\n",
       "      <td>3</td>\n",
       "    </tr>\n",
       "    <tr>\n",
       "      <th>9999</th>\n",
       "      <td>France</td>\n",
       "      <td>2019-05-22</td>\n",
       "      <td>2019-05-22</td>\n",
       "      <td>a</td>\n",
       "      <td>1</td>\n",
       "    </tr>\n",
       "  </tbody>\n",
       "</table>\n",
       "<p>4298 rows × 5 columns</p>\n",
       "</div>"
      ],
      "text/plain": [
       "     Country  OrderDate DeliverDate Item  ShippedUnits\n",
       "6     France 2007-10-11  2007-10-13    a             4\n",
       "8     France 2007-10-11  2007-10-11    b             3\n",
       "9     France 2007-10-11  2007-10-15    b             2\n",
       "10    France 2007-10-11  2007-10-16    b             1\n",
       "11    France 2007-10-12  2007-10-14    a             3\n",
       "...      ...        ...         ...  ...           ...\n",
       "9987  France 2019-05-18  2019-05-23    b             2\n",
       "9994  France 2019-05-21  2019-05-23    b             4\n",
       "9997  France 2019-05-21  2019-05-24    b             2\n",
       "9998  France 2019-05-22  2019-05-25    a             3\n",
       "9999  France 2019-05-22  2019-05-22    a             1\n",
       "\n",
       "[4298 rows x 5 columns]"
      ]
     },
     "execution_count": 47,
     "metadata": {},
     "output_type": "execute_result"
    }
   ],
   "source": [
    "shipping_data[shipping_data['Country']==\"France\"]"
   ]
  },
  {
   "cell_type": "code",
   "execution_count": 21,
   "metadata": {},
   "outputs": [
    {
     "data": {
      "text/plain": [
       "<bound method DataFrame.sort_index of      Country  OrderDate DeliverDate Item  ShippedUnits\n",
       "6     France 2007-10-11  2007-10-13    a             4\n",
       "21    France 2007-10-17  2007-10-20    a             4\n",
       "36    France 2007-10-22  2007-10-24    a             6\n",
       "37    France 2007-10-23  2007-10-24    b            10\n",
       "59    France 2007-10-30  2007-10-30    a             4\n",
       "...      ...        ...         ...  ...           ...\n",
       "9948  France 2019-05-05  2019-05-08    b             6\n",
       "9954  France 2019-05-08  2019-05-11    b             4\n",
       "9962  France 2019-05-11  2019-05-14    c            10\n",
       "9967  France 2019-05-12  2019-05-14    a             4\n",
       "9994  France 2019-05-21  2019-05-23    b             4\n",
       "\n",
       "[946 rows x 5 columns]>"
      ]
     },
     "execution_count": 21,
     "metadata": {},
     "output_type": "execute_result"
    }
   ],
   "source": [
    "# Show the rows where (Shipped Units > 3) & (Country == France)\n",
    "#dans ta réponse le tri était fait par \"Item = a\" au lieu de country = France\n",
    "\n",
    "shipping_data[(shipping_data['Country']==\"France\") & (shipping_data['ShippedUnits']>3)].sort_index\n",
    "\n",
    "#Vu le \"correct result\" qu'ils donnent j'ai l'impression qu'ils trient par numéro de ligne\n",
    "#d'où le \"sort_index\", mais ça ne donne pas le même tableau\n",
    "#pour trier par une autre colonne: .sort_values(by=\"col_name\")\n"
   ]
  },
  {
   "cell_type": "code",
   "execution_count": 58,
   "metadata": {},
   "outputs": [
    {
     "data": {
      "text/plain": [
       "<matplotlib.axes._subplots.AxesSubplot at 0x266c12aed90>"
      ]
     },
     "execution_count": 58,
     "metadata": {},
     "output_type": "execute_result"
    },
    {
     "data": {
      "image/png": "[encoded data removed]",
      "text/plain": [
       "<Figure size 432x288 with 1 Axes>"
      ]
     },
     "metadata": {
      "needs_background": "light"
     },
     "output_type": "display_data"
    }
   ],
   "source": [
    "# Ligne 97 histograms\n",
    "shipping_data['ShippedUnits'].plot.hist(edgecolor=\"white\")\n",
    "\n",
    "#Je sais pas quels histogrammes ils demandent ? là j'ai juste ajouté la couleur \n",
    "#des contours en blanc pour délimiter les \"bins\"\n",
    "\n",
    "#shipping_data['Country'].value_counts().plot(kind='bar')"
   ]
  },
  {
   "cell_type": "code",
   "execution_count": 59,
   "metadata": {},
   "outputs": [
    {
     "data": {
      "text/plain": [
       "<matplotlib.axes._subplots.AxesSubplot at 0x266c14de910>"
      ]
     },
     "execution_count": 59,
     "metadata": {},
     "output_type": "execute_result"
    },
    {
     "data": {
      "image/png": "[encoded data removed]",
      "text/plain": [
       "<Figure size 432x288 with 1 Axes>"
      ]
     },
     "metadata": {
      "needs_background": "light"
     },
     "output_type": "display_data"
    }
   ],
   "source": [
    "#ligne 108\n",
    "#pareil je sais pas quels histo ils veulent? \n",
    "#en plus ça va être la même data\n",
    "#mais du coup même formule\n",
    "\n",
    "datat['ShippedUnits'].plot.hist(edgecolor=\"white\")\n"
   ]
  },
  {
   "cell_type": "code",
   "execution_count": 64,
   "metadata": {},
   "outputs": [
    {
     "data": {
      "text/html": [
       "<div>\n",
       "<style scoped>\n",
       "    .dataframe tbody tr th:only-of-type {\n",
       "        vertical-align: middle;\n",
       "    }\n",
       "\n",
       "    .dataframe tbody tr th {\n",
       "        vertical-align: top;\n",
       "    }\n",
       "\n",
       "    .dataframe thead th {\n",
       "        text-align: right;\n",
       "    }\n",
       "</style>\n",
       "<table border=\"1\" class=\"dataframe\">\n",
       "  <thead>\n",
       "    <tr style=\"text-align: right;\">\n",
       "      <th></th>\n",
       "      <th>ShippedUnits</th>\n",
       "    </tr>\n",
       "    <tr>\n",
       "      <th>OrderDate</th>\n",
       "      <th></th>\n",
       "    </tr>\n",
       "  </thead>\n",
       "  <tbody>\n",
       "    <tr>\n",
       "      <th>2007-10-01</th>\n",
       "      <td>10</td>\n",
       "    </tr>\n",
       "    <tr>\n",
       "      <th>2007-10-02</th>\n",
       "      <td>2</td>\n",
       "    </tr>\n",
       "    <tr>\n",
       "      <th>2007-10-06</th>\n",
       "      <td>16</td>\n",
       "    </tr>\n",
       "    <tr>\n",
       "      <th>2007-10-09</th>\n",
       "      <td>3</td>\n",
       "    </tr>\n",
       "    <tr>\n",
       "      <th>2007-10-11</th>\n",
       "      <td>13</td>\n",
       "    </tr>\n",
       "  </tbody>\n",
       "</table>\n",
       "</div>"
      ],
      "text/plain": [
       "            ShippedUnits\n",
       "OrderDate               \n",
       "2007-10-01            10\n",
       "2007-10-02             2\n",
       "2007-10-06            16\n",
       "2007-10-09             3\n",
       "2007-10-11            13"
      ]
     },
     "execution_count": 64,
     "metadata": {},
     "output_type": "execute_result"
    }
   ],
   "source": [
    "#ligne 114 \n",
    "#group by quoi ? ici groupé par date de commande\n",
    "tims = shipping_data.groupby(shipping_data['OrderDate']).sum()\n",
    "\n",
    "tims.head()"
   ]
  },
  {
   "cell_type": "code",
   "execution_count": 80,
   "metadata": {},
   "outputs": [
    {
     "data": {
      "text/plain": [
       "<matplotlib.axes._subplots.AxesSubplot at 0x266c38a96a0>"
      ]
     },
     "execution_count": 80,
     "metadata": {},
     "output_type": "execute_result"
    },
    {
     "data": {
      "image/png": "[encoded data removed]",
      "text/plain": [
       "<Figure size 432x288 with 1 Axes>"
      ]
     },
     "metadata": {
      "needs_background": "light"
     },
     "output_type": "display_data"
    }
   ],
   "source": [
    "#ligne 131\n",
    "#add a new column 'delay' to datat and plot this.\n",
    "\n",
    "delay = shipping_data['DeliverDate'] - shipping_data['OrderDate'] \n",
    "\n",
    "datat['Delay'] = delay\n",
    "\n",
    "datat['Delay'].value_counts().plot(kind='bar')"
   ]
  }
 ],
 "metadata": {
  "kernelspec": {
   "display_name": "Python 3",
   "language": "python",
   "name": "python3"
  },
  "language_info": {
   "codemirror_mode": {
    "name": "ipython",
    "version": 3
   },
   "file_extension": ".py",
   "mimetype": "text/x-python",
   "name": "python",
   "nbconvert_exporter": "python",
   "pygments_lexer": "ipython3",
   "version": "3.8.3"
  }
 },
 "nbformat": 4,
 "nbformat_minor": 4
}
